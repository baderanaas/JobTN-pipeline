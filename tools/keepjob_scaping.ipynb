{
 "cells": [
  {
   "cell_type": "code",
   "execution_count": 180,
   "metadata": {},
   "outputs": [],
   "source": [
    "url = \"https://www.keejob.com\""
   ]
  },
  {
   "cell_type": "code",
   "execution_count": 19,
   "metadata": {},
   "outputs": [],
   "source": [
    "import requests\n",
    "from bs4 import BeautifulSoup\n",
    "def get_posts_links(url):\n",
    "    response = requests.get(url)\n",
    "    soup = BeautifulSoup(response.text, \"html.parser\")\n",
    "    posts = soup.select('div.block_white_a.post.clearfix.silver-job-block > div.content.row-fluid > div.span8')\n",
    "    links = [post.find('a')['href'] for post in posts if post.find('a')]\n",
    "    return links"
   ]
  },
  {
   "cell_type": "code",
   "execution_count": 21,
   "metadata": {},
   "outputs": [
    {
     "data": {
      "text/plain": [
       "['/offres-emploi/211433/acheteuse/',\n",
       " '/offres-emploi/210508/technicien-support/',\n",
       " '/offres-emploi/210308/charg%C3%A9e-de-service-client%C3%A8le-sousse/',\n",
       " '/offres-emploi/211206/conseillers-client/',\n",
       " '/offres-emploi/210372/covertelesales-manager/',\n",
       " '/offres-emploi/211166/assistant-responsable-magasin-strass-sfax/',\n",
       " '/offres-emploi/210518/charg%C3%A9-paie/',\n",
       " '/offres-emploi/210615/juriste-en-droit-priv%C3%A9/',\n",
       " '/offres-emploi/210626/magasinier-pi%C3%A8ces-de-rechange-automobile/',\n",
       " '/offres-emploi/211434/ing%C3%A9nieur-maintenance-pec-med/',\n",
       " '/offres-emploi/211205/charg%C3%A9e-de-sourcing-sousse/',\n",
       " '/offres-emploi/209839/charg%C3%A9e-de-sourcing-en-recrutement-sousse/',\n",
       " '/offres-emploi/210251/operatori-call-center-di-lingua-italiana/']"
      ]
     },
     "execution_count": 21,
     "metadata": {},
     "output_type": "execute_result"
    }
   ],
   "source": [
    "get_posts_links(url)"
   ]
  },
  {
   "cell_type": "code",
   "execution_count": 60,
   "metadata": {},
   "outputs": [],
   "source": [
    "def get_post_content(url):\n",
    "    request = requests.get(url)\n",
    "    soup = BeautifulSoup(request.text, \"html.parser\")\n",
    "    content = soup.find('div', {'id': 'main', 'class': 'span12 page image-preloader'})\n",
    "    return content\n",
    "    \n",
    "    "
   ]
  },
  {
   "cell_type": "code",
   "execution_count": null,
   "metadata": {},
   "outputs": [],
   "source": [
    "get_post_content(url+'211433/acheteuse/')"
   ]
  },
  {
   "cell_type": "code",
   "execution_count": 106,
   "metadata": {},
   "outputs": [],
   "source": [
    "import re\n",
    "\n",
    "\n",
    "def get_company_details(content):\n",
    "    block = content.find(\"div\", {\"class\": \"span9 content\"}).text\n",
    "    text = re.sub(r\"\\t+\", \"\", block)\n",
    "    text = text.strip().split(\"\\n\")\n",
    "    text = [line for line in text if line != \"\"]\n",
    "    company = text[0]\n",
    "    sector = text[2]\n",
    "    size = text[4]\n",
    "    \n",
    "    return {\n",
    "        \"company\": company,\n",
    "        \"sector\": sector,\n",
    "        \"size\": size\n",
    "    }\n",
    "    # print(company)"
   ]
  },
  {
   "cell_type": "code",
   "execution_count": 107,
   "metadata": {},
   "outputs": [
    {
     "data": {
      "text/plain": [
       "{'company': 'PLASTIC ELECTROMECHANIC COMPANY PEC',\n",
       " 'sector': 'industrie électro-mécaniques',\n",
       " 'size': 'Entre 200 et 500 employés'}"
      ]
     },
     "execution_count": 107,
     "metadata": {},
     "output_type": "execute_result"
    }
   ],
   "source": [
    "get_company_details(get_post_content(url+'211433/acheteuse/'))"
   ]
  },
  {
   "cell_type": "code",
   "execution_count": 108,
   "metadata": {},
   "outputs": [
    {
     "data": {
      "text/plain": [
       "{'company': 'BINITNS',\n",
       " 'sector': 'consulting / étude / stratégie',\n",
       " 'size': 'Moins de 20 employés'}"
      ]
     },
     "execution_count": 108,
     "metadata": {},
     "output_type": "execute_result"
    }
   ],
   "source": [
    "get_company_details(get_post_content(url+'210508/technicien-support/'))"
   ]
  },
  {
   "cell_type": "code",
   "execution_count": 161,
   "metadata": {},
   "outputs": [],
   "source": [
    "def get_job_details(content):\n",
    "    job_title = content.find(\"h2\", class_=\"job-title\").text\n",
    "    description = content.find(\"div\", class_=\"block_a span12 no-margin-left\").text\n",
    "    details = content.find_all(\"div\", class_=\"meta\")\n",
    "    data = {}    \n",
    "    for meta in details:\n",
    "        # Get the label (text inside the <b> tag)\n",
    "        label = meta.find('b').text.strip().replace(\":\", \"\")\n",
    "        # Get the value (text after the <br> tag)\n",
    "        value = meta.find('br').next_sibling.strip() if meta.find('br') else ''\n",
    "        value = re.sub(r'[\\s\\n\\t]+', ' ', value).strip()\n",
    "        data[label] = value\n",
    "\n",
    "    return {\n",
    "        \"title\": job_title,\n",
    "        \"description\": description,\n",
    "        \"reference\": data[\"Référence\"],\n",
    "        \"post_date\": data[\"Publiée le\"],\n",
    "        \"job_type\": data[\"Type de poste\"],\n",
    "        \"workplace\": data[\"Lieu de travail\"],\n",
    "        \"experience\": data[\"Expérience\"],\n",
    "        \"degree\": data[\"Étude\"],\n",
    "        \"disponibility\": data[\"Disponibilité\"],\n",
    "        \"languages\": data[\"Langues\"],\n",
    "    }\n"
   ]
  },
  {
   "cell_type": "code",
   "execution_count": 162,
   "metadata": {},
   "outputs": [
    {
     "data": {
      "text/plain": [
       "{'title': 'Acheteuse',\n",
       " 'description': \"\\nDescription de l'annonce:\\nDescription des taches :Gérer le processus d’achat de biens et services en respectant le budget et les délais.Évaluer et sélectionner les fournisseurs en fonction des critères de qualité, coût et délais.Négocier les conditions d’achat pour obtenir les meilleures offres.Suivre les commandes et s’assurer de la bonne réception des produitsÉlaborer des cahiers des charges et des appels d’offresProfil Recherché\\xa0 :Maîtrise des techniques de négociation et des contrats d’achat.Connaissance des outils de gestion des achats (ERP, logiciels de gestionExcellentes compétences en communication et en travail d’équipe.Capacité à établir des relations de confiance avec les fournisseursFormation : Diplôme en commerce, gestion des achats, logistiqueExpérience : Minimum 3 ans\\xa0 d’expérience dans un poste similaire\\nAdresse : djebel Ouest -Zaghouan (PEC MED )\\xa0 \\xa0\\n\\n\\n\\n\\n\\n\\n\\n\\n\\n\\n\\n\\n\\n\\n\\n\\n\\n\\n\\n\\t\\t\\t\\t\\tImprimer\\n\\t\\t\\t\\t\\n\\n\\n\\n\",\n",
       " 'reference': '211433',\n",
       " 'post_date': '14 novembre 2024',\n",
       " 'job_type': 'CDI, ,, CDD',\n",
       " 'workplace': 'Bir Mcherga, Zaghouan, Tunisie',\n",
       " 'experience': 'Entre 2 et 5 ans',\n",
       " 'degree': 'Bac + 3',\n",
       " 'disponibility': 'Plein temps',\n",
       " 'languages': 'Français , Anglais'}"
      ]
     },
     "execution_count": 162,
     "metadata": {},
     "output_type": "execute_result"
    }
   ],
   "source": [
    "get_job_details(get_post_content(url+'211433/acheteuse/'))"
   ]
  },
  {
   "cell_type": "code",
   "execution_count": 193,
   "metadata": {},
   "outputs": [
    {
     "data": {
      "text/plain": [
       "88"
      ]
     },
     "execution_count": 193,
     "metadata": {},
     "output_type": "execute_result"
    }
   ],
   "source": [
    "def get_number_of_pages(url):\n",
    "    response = requests.get(url)\n",
    "    soup = BeautifulSoup(response.text, \"html.parser\")\n",
    "    pages = soup.find_all('li', class_='page-item')\n",
    "    page_number = pages[3].find('a')['aria-label'].split()[-1]\n",
    "    return int(page_number)\n",
    "\n",
    "get_number_of_pages('https://www.keejob.com/offres-emploi/')"
   ]
  },
  {
   "cell_type": "code",
   "execution_count": 183,
   "metadata": {},
   "outputs": [],
   "source": [
    "def get_pagited_posts_links_and_content(url, n):\n",
    "    data = {}\n",
    "    links = []\n",
    "    for i in range(1, n+1):\n",
    "        page_url = url + f\"/offres-emploi/?page={i}\"\n",
    "        links += get_posts_links(page_url)\n",
    "    for i, link in enumerate(links):\n",
    "        data[link] = get_post_content(url+link)\n",
    "        if i == 5:\n",
    "            break\n",
    "        # print(url+link)\n",
    "    return data"
   ]
  }
 ],
 "metadata": {
  "kernelspec": {
   "display_name": ".venv",
   "language": "python",
   "name": "python3"
  },
  "language_info": {
   "codemirror_mode": {
    "name": "ipython",
    "version": 3
   },
   "file_extension": ".py",
   "mimetype": "text/x-python",
   "name": "python",
   "nbconvert_exporter": "python",
   "pygments_lexer": "ipython3",
   "version": "3.10.11"
  }
 },
 "nbformat": 4,
 "nbformat_minor": 2
}
