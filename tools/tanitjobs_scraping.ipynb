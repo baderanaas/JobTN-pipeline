{
 "cells": [
  {
   "cell_type": "code",
   "execution_count": 16,
   "metadata": {},
   "outputs": [],
   "source": [
    "url = \"https://www.tanitjobs.com/jobs/?searchId=1731624656.9136&action=search&page=1\""
   ]
  },
  {
   "cell_type": "code",
   "execution_count": 20,
   "metadata": {},
   "outputs": [],
   "source": [
    "import requests\n",
    "import re\n",
    "from bs4 import BeautifulSoup\n",
    "\n",
    "def get_posts_links(url):\n",
    "    request = requests.get(url)\n",
    "    soup = BeautifulSoup(request.text, 'html.parser')\n",
    "    print(soup.prettify())\n",
    "    # posts = soup.find_all('div', class_='media-body')\n",
    "    posts = soup.find('div', class_='media-body')\n",
    "    print(posts)"
   ]
  },
  {
   "cell_type": "code",
   "execution_count": null,
   "metadata": {},
   "outputs": [
    {
     "ename": "TimeoutException",
     "evalue": "Message: \nStacktrace:\nRemoteError@chrome://remote/content/shared/RemoteError.sys.mjs:8:8\nWebDriverError@chrome://remote/content/shared/webdriver/Errors.sys.mjs:193:5\nNoSuchElementError@chrome://remote/content/shared/webdriver/Errors.sys.mjs:511:5\ndom.find/</<@chrome://remote/content/shared/DOM.sys.mjs:136:16\n",
     "output_type": "error",
     "traceback": [
      "\u001b[1;31m---------------------------------------------------------------------------\u001b[0m",
      "\u001b[1;31mTimeoutException\u001b[0m                          Traceback (most recent call last)",
      "Cell \u001b[1;32mIn[35], line 44\u001b[0m\n\u001b[0;32m     41\u001b[0m driver\u001b[38;5;241m.\u001b[39mexecute_script(\u001b[38;5;124m\"\u001b[39m\u001b[38;5;124mwindow.scrollTo(0, document.body.scrollHeight);\u001b[39m\u001b[38;5;124m\"\u001b[39m)\n\u001b[0;32m     43\u001b[0m \u001b[38;5;66;03m# Wait for the \"VOIR PLUS\" button to be clickable and then click\u001b[39;00m\n\u001b[1;32m---> 44\u001b[0m button \u001b[38;5;241m=\u001b[39m \u001b[43mWebDriverWait\u001b[49m\u001b[43m(\u001b[49m\u001b[43mdriver\u001b[49m\u001b[43m,\u001b[49m\u001b[43m \u001b[49m\u001b[38;5;241;43m30\u001b[39;49m\u001b[43m)\u001b[49m\u001b[38;5;241;43m.\u001b[39;49m\u001b[43muntil\u001b[49m\u001b[43m(\u001b[49m\n\u001b[0;32m     45\u001b[0m \u001b[43m    \u001b[49m\u001b[43mEC\u001b[49m\u001b[38;5;241;43m.\u001b[39;49m\u001b[43melement_to_be_clickable\u001b[49m\u001b[43m(\u001b[49m\u001b[43m(\u001b[49m\u001b[43mBy\u001b[49m\u001b[38;5;241;43m.\u001b[39;49m\u001b[43mXPATH\u001b[49m\u001b[43m,\u001b[49m\u001b[43m \u001b[49m\u001b[38;5;124;43m\"\u001b[39;49m\u001b[38;5;124;43m//button[@class=\u001b[39;49m\u001b[38;5;124;43m'\u001b[39;49m\u001b[38;5;124;43mload-more btn btn__nextpage\u001b[39;49m\u001b[38;5;124;43m'\u001b[39;49m\u001b[38;5;124;43m]\u001b[39;49m\u001b[38;5;124;43m\"\u001b[39;49m\u001b[43m)\u001b[49m\u001b[43m)\u001b[49m\n\u001b[0;32m     46\u001b[0m \u001b[43m)\u001b[49m\n\u001b[0;32m     47\u001b[0m button\u001b[38;5;241m.\u001b[39mclick()\n\u001b[0;32m     49\u001b[0m \u001b[38;5;66;03m# Wait for content to load after clicking\u001b[39;00m\n",
      "File \u001b[1;32md:\\INSAT\\RT4\\Semestre 1\\ML\\mini-project\\JobTN-pipeline\\.venv\\lib\\site-packages\\selenium\\webdriver\\support\\wait.py:105\u001b[0m, in \u001b[0;36mWebDriverWait.until\u001b[1;34m(self, method, message)\u001b[0m\n\u001b[0;32m    103\u001b[0m         \u001b[38;5;28;01mbreak\u001b[39;00m\n\u001b[0;32m    104\u001b[0m     time\u001b[38;5;241m.\u001b[39msleep(\u001b[38;5;28mself\u001b[39m\u001b[38;5;241m.\u001b[39m_poll)\n\u001b[1;32m--> 105\u001b[0m \u001b[38;5;28;01mraise\u001b[39;00m TimeoutException(message, screen, stacktrace)\n",
      "\u001b[1;31mTimeoutException\u001b[0m: Message: \nStacktrace:\nRemoteError@chrome://remote/content/shared/RemoteError.sys.mjs:8:8\nWebDriverError@chrome://remote/content/shared/webdriver/Errors.sys.mjs:193:5\nNoSuchElementError@chrome://remote/content/shared/webdriver/Errors.sys.mjs:511:5\ndom.find/</<@chrome://remote/content/shared/DOM.sys.mjs:136:16\n"
     ]
    }
   ],
   "source": [
    "import httpx\n",
    "from parsel import Selector\n",
    "\n",
    "response = httpx.get(\"some web page with cloudflare challenge URL\")\n",
    "selector = Selector(response.text)\n",
    "\n",
    "# in ScrapFly becomes this 👇\n",
    "from scrapfly import ScrapeConfig, ScrapflyClient\n",
    "\n",
    "# replaces your HTTP client (httpx in this case)\n",
    "scrapfly = ScrapflyClient(key=\"Your ScrapFly API key\")\n",
    "\n",
    "response = scrapfly.scrape(ScrapeConfig(\n",
    "    url=\"web page URL\",\n",
    "    asp=True, # enable the anti scraping protection to bypass blocking\n",
    "    country=\"US\", # set the proxy location to a specfic country\n",
    "    proxy_pool=\"public_residential_pool\", # select a proxy pool\n",
    "    render_js=True # enable rendering JavaScript (like headless browsers) to scrape dynamic content if needed\n",
    "))\n",
    "\n",
    "# use the built in Parsel selector\n",
    "selector = response.selector\n",
    "# access the HTML content\n",
    "html = response.scrape_result['content']"
   ]
  },
  {
   "cell_type": "code",
   "execution_count": 37,
   "metadata": {},
   "outputs": [
    {
     "ename": "ImportError",
     "evalue": "cannot import name 'FlareSolverr' from 'flare_bypasser' (d:\\INSAT\\RT4\\Semestre 1\\ML\\mini-project\\JobTN-pipeline\\.venv\\lib\\site-packages\\flare_bypasser\\__init__.py)",
     "output_type": "error",
     "traceback": [
      "\u001b[1;31m---------------------------------------------------------------------------\u001b[0m",
      "\u001b[1;31mImportError\u001b[0m                               Traceback (most recent call last)",
      "Cell \u001b[1;32mIn[37], line 3\u001b[0m\n\u001b[0;32m      1\u001b[0m \u001b[38;5;28;01mimport\u001b[39;00m \u001b[38;5;21;01masyncio\u001b[39;00m\n\u001b[0;32m      2\u001b[0m \u001b[38;5;28;01mfrom\u001b[39;00m \u001b[38;5;21;01mflare_bypasser\u001b[39;00m \u001b[38;5;28;01mimport\u001b[39;00m BrowserWrapper, Request, Response\n\u001b[1;32m----> 3\u001b[0m \u001b[38;5;28;01mfrom\u001b[39;00m \u001b[38;5;21;01mflare_bypasser\u001b[39;00m \u001b[38;5;28;01mimport\u001b[39;00m FlareSolverr\n\u001b[0;32m      6\u001b[0m \u001b[38;5;66;03m# Define the MyClickCommandProcessor class (same as before)\u001b[39;00m\n\u001b[0;32m      7\u001b[0m \u001b[38;5;28;01mclass\u001b[39;00m \u001b[38;5;21;01mMyClickCommandProcessor\u001b[39;00m(BaseCommandProcessor):\n",
      "\u001b[1;31mImportError\u001b[0m: cannot import name 'FlareSolverr' from 'flare_bypasser' (d:\\INSAT\\RT4\\Semestre 1\\ML\\mini-project\\JobTN-pipeline\\.venv\\lib\\site-packages\\flare_bypasser\\__init__.py)"
     ]
    }
   ],
   "source": [
    "import asyncio\n",
    "from flare_bypasser import BrowserWrapper, Request, Response\n",
    "from flare_bypasser import FlareSolverr\n",
    "\n",
    "\n",
    "# Define the MyClickCommandProcessor class (same as before)\n",
    "class MyClickCommandProcessor(BaseCommandProcessor):\n",
    "    async def preprocess_command(self, req: Request, driver: BrowserWrapper) -> Request:\n",
    "        if \"target_element\" not in req.params:\n",
    "            raise ValueError(\"Missing target_element parameter\")\n",
    "        return req\n",
    "\n",
    "    async def process_command(self, res: Response, req: Request, driver: BrowserWrapper) -> Response:\n",
    "        # Get the driver instance\n",
    "        nodriver_tab = driver.get_driver()\n",
    "        \n",
    "        # Get the current DOM content\n",
    "        dom = await nodriver_tab.get_content()\n",
    "        \n",
    "        # Find all 'input[type=submit]' elements\n",
    "        els = await nodriver_tab.select_all('input[type=submit]')\n",
    "        \n",
    "        if not els:\n",
    "            # If no 'input[type=submit]' elements are found, raise an exception\n",
    "            raise Exception(\"MyClickCommandProcessor: no input for click: \" + str(dom))\n",
    "        \n",
    "        # Click on the first 'input[type=submit]' element found\n",
    "        await els[0].click()\n",
    "        \n",
    "        # Wait for the content to update after the click\n",
    "        res.response = await nodriver_tab.get_content()\n",
    "        \n",
    "        # Return the updated response\n",
    "        return res\n",
    "\n",
    "\n",
    "# Define a function to run the automation\n",
    "async def run_automation(url):\n",
    "    # Initialize FlareSolverr and BrowserWrapper\n",
    "    flare_solverr = FlareSolverr()\n",
    "    driver = await flare_solverr.get_driver()\n",
    "\n",
    "    # Create the request with the given URL\n",
    "    req = Request(url=url)\n",
    "\n",
    "    # Create an empty response to be updated\n",
    "    res = Response()\n",
    "\n",
    "    # Create the custom command processor\n",
    "    command_processor = MyClickCommandProcessor()\n",
    "\n",
    "    # Apply the command processor to click the 'VOIR PLUS' button\n",
    "    await command_processor.process_command(res, req, driver)\n",
    "\n",
    "    # After processing, print the updated page content\n",
    "    print(res.response)\n",
    "\n",
    "    # Close the driver\n",
    "    await driver.close()\n",
    "\n",
    "\n",
    "# URL to visit\n",
    "url = \"https://www.tanitjobs.com/jobs/?searchId=1731624656.9136&action=search&page=1\"\n",
    "\n",
    "# Run the automation asynchronously\n",
    "asyncio.run(run_automation(url))"
   ]
  }
 ],
 "metadata": {
  "kernelspec": {
   "display_name": ".venv",
   "language": "python",
   "name": "python3"
  },
  "language_info": {
   "codemirror_mode": {
    "name": "ipython",
    "version": 3
   },
   "file_extension": ".py",
   "mimetype": "text/x-python",
   "name": "python",
   "nbconvert_exporter": "python",
   "pygments_lexer": "ipython3",
   "version": "3.10.11"
  }
 },
 "nbformat": 4,
 "nbformat_minor": 2
}
