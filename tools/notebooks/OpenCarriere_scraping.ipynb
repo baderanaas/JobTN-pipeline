{
 "cells": [
  {
   "cell_type": "code",
   "execution_count": 23,
   "metadata": {},
   "outputs": [],
   "source": [
    "import requests\n",
    "from bs4 import BeautifulSoup"
   ]
  },
  {
   "cell_type": "code",
   "execution_count": 24,
   "metadata": {},
   "outputs": [],
   "source": [
    "url = \"https://www.optioncarriere.tn/emploi?s=&l=\""
   ]
  },
  {
   "cell_type": "code",
   "execution_count": 25,
   "metadata": {},
   "outputs": [],
   "source": [
    "def get_jobs_links(url):\n",
    "    response = requests.get(url)\n",
    "    soup = BeautifulSoup(response.text, \"html.parser\")\n",
    "    job_articles = soup.find_all(\"article\", class_=\"job clicky\")\n",
    "    links = []\n",
    "    \n",
    "    for job in job_articles:\n",
    "        if \"data-url\" in job.attrs:\n",
    "            links.append(\"https://www.optioncarriere.tn\" + job[\"data-url\"])\n",
    "    return links"
   ]
  },
  {
   "cell_type": "code",
   "execution_count": 87,
   "metadata": {},
   "outputs": [],
   "source": [
    "def get_job_details(link):\n",
    "    response = requests.get(link)\n",
    "    response.raise_for_status()\n",
    "    soup = BeautifulSoup(response.text, \"html.parser\")\n",
    "    \n",
    "    job_details = {}\n",
    "    job_details[\"Title\"] = soup.find(\"h1\").text.strip() if soup.find(\"h1\") else \"N/A\"\n",
    "    job_details[\"Company\"] = soup.find(\"p\", class_=\"company\").text.strip() if soup.find(\"p\", class_=\"company\") else \"N/A\"\n",
    "    job_details[\"Location\"] = soup.find(\"span\").text.strip() if soup.find(\"span\") else \"N/A\"\n",
    "    job_details[\"Description\"] = soup.find(\"section\", class_=\"content\").text.strip() if soup.find(\"section\", class_=\"content\") else \"N/A\"\n",
    "    \n",
    "    date_badge = soup.find(\"ul\", class_=\"tags\")\n",
    "    job_details[\"Date Posted\"] = date_badge.text.strip().split(\"\\n\")[0] if date_badge else \"N/A\"    \n",
    "    \n",
    "    job_details[\"Link\"] = link\n",
    "    \n",
    "    return job_details"
   ]
  },
  {
   "cell_type": "code",
   "execution_count": 88,
   "metadata": {},
   "outputs": [],
   "source": [
    "def scrape_optioncarriere(base_url):\n",
    "    all_jobs = []\n",
    "    current_page = 1\n",
    "    \n",
    "    while current_page <= 1:\n",
    "        job_links = get_jobs_links(base_url)\n",
    "        \n",
    "        if not job_links:\n",
    "            print(\"No more job offers found. Scraping complete.\")\n",
    "            break\n",
    "        \n",
    "        for link in job_links:\n",
    "            try:\n",
    "                job_details = get_job_details(link)\n",
    "                all_jobs.append(job_details)\n",
    "            except Exception as e:\n",
    "                print(f\"Failed to scrape job details from {link}: {e}\")\n",
    "        \n",
    "        soup = BeautifulSoup(requests.get(base_url).text, \"html.parser\")\n",
    "        \n",
    "        next_button = soup.find(\"button\", {\"class\": \"ves-control ves-add btn btn-r btn-primary-inverted next\"})\n",
    "        \n",
    "        if next_button and \"data-value\" in next_button.attrs:\n",
    "            next_page_value = next_button[\"data-value\"]\n",
    "            base_url = f\"https://www.optioncarriere.tn/emploi?s=&l=&p={next_page_value}\"\n",
    "            current_page += 1  \n",
    "        else:\n",
    "            print(\"No more pages found. Ending scraping.\")\n",
    "            break\n",
    "    \n",
    "    return all_jobs\n"
   ]
  },
  {
   "cell_type": "code",
   "execution_count": 89,
   "metadata": {},
   "outputs": [],
   "source": [
    "import re\n",
    "from datetime import datetime\n",
    "from dateutil.relativedelta import relativedelta\n",
    "\n",
    "def switch_date_format(date):\n",
    "    print(date)\n",
    "    day, month, year = date.split(\"/\")\n",
    "    new_date = f\"{year}-{month}-{day}\"\n",
    "\n",
    "    # Parse the rearranged date\n",
    "    date_obj = datetime.strptime(new_date, \"%Y-%m-%d\")\n",
    "\n",
    "    # Add one month using relativedelta\n",
    "    date_plus_one_month = date_obj + relativedelta(months=1)\n",
    "\n",
    "    # Return the formatted dates\n",
    "    return date_plus_one_month.strftime(\"%Y-%m-%d\")"
   ]
  },
  {
   "cell_type": "code",
   "execution_count": 90,
   "metadata": {},
   "outputs": [
    {
     "name": "stdout",
     "output_type": "stream",
     "text": [
      "{'Title': 'Préparateur Préparatrice en Pharmacie à Hammamet', 'Company': 'Pharmacie Yasmine Bel Hadj Hassine, Hammamet (en face de la tour bleue)', 'Location': \"Recherche d'emploi\", 'Date Posted': 'Il y a 1 jour', 'Description': \"Les missions principales seront : - Vérifier les livraisons - Réceptionner les commandes, ranger et classer les produits reçus - Délivrer les ordonnances, veiller à leur compréhension et à l'absence d'intéraction médicamenteuse, et apporter les conseils associés - Avoir un rôle d'écoute et de conseil afin de favoriser l'amélioration ou le maintien de l'état de santé des personnes - Conseiller des produits de parapharmacie  Qualités: - Être vigilant,\\xa0rigoureux,\\xa0méthodique,\\xa0organisé\\xa0et posséder une capacité de concentration à toute épreuve. - Avoir un esprit scientifique et une excellente connaissance des médicaments - Avoir le sens du contact humain, être\\xa0discret et patient\\xa0pour écouter, conseiller et rassurer la clientèle\\n\\n\\n      \\n      Pharmacie Yasmine Bel Hadj Hassine, Hammamet (en face de la tour bleue)\", 'Link': 'https://www.optioncarriere.tn/jobad/tn63f4f57ae156346be4df21c7f44f21ee'}\n"
     ]
    }
   ],
   "source": [
    "jobs = scrape_optioncarriere(url)\n",
    "\n",
    "for job in jobs[:1]:\n",
    "    formatted_job = {\n",
    "        \"Title\": job[\"Title\"],\n",
    "        \"Company\": job[\"Company\"],\n",
    "        \"Location\": job[\"Location\"],\n",
    "        # \"Date Posted\": switch_date_format(job[\"Date Posted\"]),\n",
    "        \"Date Posted\": job[\"Date Posted\"],\n",
    "        \"Description\": job[\"Description\"],\n",
    "        \"Link\": job[\"Link\"],\n",
    "    }\n",
    "    print(formatted_job)"
   ]
  }
 ],
 "metadata": {
  "kernelspec": {
   "display_name": ".venv",
   "language": "python",
   "name": "python3"
  },
  "language_info": {
   "codemirror_mode": {
    "name": "ipython",
    "version": 3
   },
   "file_extension": ".py",
   "mimetype": "text/x-python",
   "name": "python",
   "nbconvert_exporter": "python",
   "pygments_lexer": "ipython3",
   "version": "3.10.11"
  }
 },
 "nbformat": 4,
 "nbformat_minor": 2
}
