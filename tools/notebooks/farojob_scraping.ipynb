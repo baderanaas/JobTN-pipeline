{
 "cells": [
  {
   "cell_type": "code",
   "execution_count": 1,
   "metadata": {},
   "outputs": [],
   "source": [
    "url = \"https://www.farojob.net/jobs/?s&type&paged=1\""
   ]
  },
  {
   "cell_type": "code",
   "execution_count": 2,
   "metadata": {},
   "outputs": [
    {
     "data": {
      "text/plain": [
       "['https://www.farojob.net/jobs/clinique-du-centre-recrute-gouvernante/',\n",
       " 'https://www.farojob.net/jobs/clinique-du-centre-recrute-technicienne-instrumentiste-2/',\n",
       " 'https://www.farojob.net/jobs/clinique-du-centre-recrute-hygieniste/',\n",
       " 'https://www.farojob.net/jobs/clinique-du-centre-recrute-kinesitherapeute/',\n",
       " 'https://www.farojob.net/jobs/clinique-du-centre-recrute-sage-femme-2/',\n",
       " 'https://www.farojob.net/jobs/clinique-du-centre-recrute-cuisinier-qualifie/',\n",
       " 'https://www.farojob.net/jobs/clinique-du-centre-recrute-comptable/',\n",
       " 'https://www.farojob.net/jobs/pharmacie-a-hammamet-recrutre-preparateur-preparatrice/',\n",
       " 'https://www.farojob.net/jobs/ncss-group-inc-recrute-technicien-en-soutien-informatique/',\n",
       " 'https://www.farojob.net/jobs/les-cliniques-el-manar-recrute-nutritionniste-dieteticienne/',\n",
       " 'https://www.farojob.net/jobs/les-cliniques-el-manar-recrute-infirmiers-sage-femme/',\n",
       " 'https://www.farojob.net/jobs/eunoia-academy-recrute-charge-e-de-clientele/',\n",
       " 'https://www.farojob.net/jobs/eunoia-academy-recrute-charge-e-de-marketing/',\n",
       " 'https://www.farojob.net/jobs/eunoia-academy-recrute-technicien-ne-en-assistance-et-support-de-contenu/',\n",
       " 'https://www.farojob.net/jobs/eunoia-academy-recrute-graphiste/']"
      ]
     },
     "execution_count": 2,
     "metadata": {},
     "output_type": "execute_result"
    }
   ],
   "source": [
    "import requests\n",
    "from bs4 import BeautifulSoup\n",
    "\n",
    "def get_posts_links(url):\n",
    "    response = requests.get(url)\n",
    "    soup = BeautifulSoup(response.text, 'html.parser')\n",
    "    posts = soup.find_all('a', class_='job-details-link')\n",
    "    links = [post['href'] for post in posts]\n",
    "    return links\n",
    "\n",
    "get_posts_links(url)"
   ]
  },
  {
   "cell_type": "code",
   "execution_count": 3,
   "metadata": {},
   "outputs": [
    {
     "name": "stdout",
     "output_type": "stream",
     "text": [
      "793\n"
     ]
    }
   ],
   "source": [
    "def get_number_of_pages(url):\n",
    "    response = requests.get(url)\n",
    "    soup = BeautifulSoup(response.text, 'html.parser')\n",
    "    \n",
    "    return soup.find_all('a', class_='page-numbers')[-2].text\n",
    "\n",
    "print(int(get_number_of_pages(url)))"
   ]
  },
  {
   "cell_type": "code",
   "execution_count": 4,
   "metadata": {},
   "outputs": [],
   "source": [
    "links = get_posts_links(url)"
   ]
  },
  {
   "cell_type": "code",
   "execution_count": 5,
   "metadata": {},
   "outputs": [
    {
     "name": "stdout",
     "output_type": "stream",
     "text": [
      "\n",
      "28 novembre 2024\n",
      "\n"
     ]
    }
   ],
   "source": [
    "def get_links_contents(links):\n",
    "    data = {}\n",
    "    for link in links:\n",
    "        response = requests.get(link)\n",
    "        soup = BeautifulSoup(response.text, 'html.parser')\n",
    "        content = soup.find('div', class_='job-desc')\n",
    "        post_date = soup.find('span', class_='job-date__posted').text\n",
    "        data[link] = {content, post_date}\n",
    "    return data\n",
    "    \n",
    "content, post_date = get_links_contents(links)[links[0]]\n",
    "print(post_date)"
   ]
  },
  {
   "cell_type": "code",
   "execution_count": 10,
   "metadata": {},
   "outputs": [],
   "source": [
    "import re\n",
    "from datetime import datetime\n",
    "from dateutil.relativedelta import relativedelta\n",
    "\n",
    "\n",
    "def convert_date(date):\n",
    "    months = {\n",
    "        \"janvier\": \"01\",\n",
    "        \"février\": \"02\",\n",
    "        \"mars\": \"03\",\n",
    "        \"avril\": \"04\",\n",
    "        \"mai\": \"05\",\n",
    "        \"juin\": \"06\",\n",
    "        \"juillet\": \"07\",\n",
    "        \"août\": \"08\",\n",
    "        \"septembre\": \"09\",\n",
    "        \"octobre\": \"10\",\n",
    "        \"novembre\": \"11\",\n",
    "        \"décembre\": \"12\",\n",
    "    }\n",
    "    date = re.sub(r\"[^a-z0-9 ]\", \"\", date.lower())\n",
    "    day, month, year = date.split()\n",
    "    date = f\"{year}-{months[month]}-{day}\"\n",
    "    return (datetime.strptime(date, \"%Y-%m-%d\") + relativedelta(months=1)).strftime(\n",
    "        \"%Y-%m-%d\"\n",
    "    )"
   ]
  },
  {
   "cell_type": "code",
   "execution_count": 11,
   "metadata": {},
   "outputs": [
    {
     "name": "stdout",
     "output_type": "stream",
     "text": [
      "2024-12-28\n"
     ]
    }
   ],
   "source": [
    "print(convert_date(post_date))"
   ]
  },
  {
   "cell_type": "code",
   "execution_count": 17,
   "metadata": {},
   "outputs": [
    {
     "data": {
      "text/plain": [
       "{'company': 'Nehos Groupe',\n",
       " 'title': 'Développeur Full Stack Js',\n",
       " 'description': 'Responsabilités\\n– Concevoir, développer et déployer des applications web et des API robustes et évolutives en utilisant les technologies Node.js, Nest.js et Next.js.\\n– Collaborer avec les équipes de développement front-end et back-end pour concevoir et mettre en œuvre des solutions techniques efficaces.\\nParticiper à la conception et à l’architecture des applications, en veillant à la qualité du code et à la scalabilité.\\n– Assurer la maintenance et l’amélioration continues des applications existantes.\\n– Travailler en étroite collaboration avec les équipes de produits pour comprendre les exigences fonctionnelles et les traduire en solutions techniques. Profil recherché\\n– Expérience significative dans le développement web avec Node.js, Nest.js et Next.js.\\n– Maîtrise des principes de conception logicielle, de l’architecture RESTful et des meilleures pratiques de développement.\\nSolides compétences en développement front-end avec des frameworks comme React.js ou Vue.js.\\n– Connaissance des bases de données relationnelles et non relationnelles (MySQL, MongoDB, etc.).\\n– Capacité à travailler efficacement en équipe, à communiquer clairement et à résoudre les problèmes de manière autonome.\\n– Aptitude à travailler dans un environnement Agile et à respecter les délais. Ce que nous offrons\\n– Un environnement de travail collaboratif et stimulant.\\n– Des projets variés et enrichissants.\\n– Opportunités de développement professionnel.\\n– Une rémunération compétitive et des avantages sociaux attractifs. Comment postuler\\nMerci d’envoyer votre CV Ville ›\\xa0Sousse / Sfax\\nEntreprise ›\\xa0Nehos Groupe\\nTel / Fax ›\\xa096118047',\n",
       " 'workplace': 'Tunisie'}"
      ]
     },
     "execution_count": 17,
     "metadata": {},
     "output_type": "execute_result"
    }
   ],
   "source": [
    "def get_post_details(content):\n",
    "    paragraphs = content.find_all('p')\n",
    "    post = {}\n",
    "    post[\"company\"] = \" \".join(paragraphs[0].text.split()[:-1])\n",
    "    post[\"title\"] = paragraphs[1].text\n",
    "    post[\"description\"] = \" \".join([paragraph.text for paragraph in paragraphs[2:]])\n",
    "    post[\"workplace\"] = \"Tunisie\"\n",
    "    return post\n",
    "    \n",
    "get_post_details(content)"
   ]
  }
 ],
 "metadata": {
  "kernelspec": {
   "display_name": ".venv",
   "language": "python",
   "name": "python3"
  },
  "language_info": {
   "codemirror_mode": {
    "name": "ipython",
    "version": 3
   },
   "file_extension": ".py",
   "mimetype": "text/x-python",
   "name": "python",
   "nbconvert_exporter": "python",
   "pygments_lexer": "ipython3",
   "version": "3.10.11"
  }
 },
 "nbformat": 4,
 "nbformat_minor": 2
}
