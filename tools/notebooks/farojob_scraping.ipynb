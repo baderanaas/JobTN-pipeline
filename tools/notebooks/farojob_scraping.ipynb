{
 "cells": [
  {
   "cell_type": "code",
   "execution_count": 1,
   "metadata": {},
   "outputs": [],
   "source": [
    "url = \"https://www.farojob.net/jobs/?s&type&paged=1\""
   ]
  },
  {
   "cell_type": "code",
   "execution_count": 2,
   "metadata": {},
   "outputs": [
    {
     "data": {
      "text/plain": [
       "['https://www.farojob.net/jobs/clinique-du-centre-recrute-gouvernante/',\n",
       " 'https://www.farojob.net/jobs/clinique-du-centre-recrute-technicienne-instrumentiste-2/',\n",
       " 'https://www.farojob.net/jobs/clinique-du-centre-recrute-hygieniste/',\n",
       " 'https://www.farojob.net/jobs/clinique-du-centre-recrute-kinesitherapeute/',\n",
       " 'https://www.farojob.net/jobs/clinique-du-centre-recrute-sage-femme-2/',\n",
       " 'https://www.farojob.net/jobs/clinique-du-centre-recrute-cuisinier-qualifie/',\n",
       " 'https://www.farojob.net/jobs/clinique-du-centre-recrute-comptable/',\n",
       " 'https://www.farojob.net/jobs/pharmacie-a-hammamet-recrutre-preparateur-preparatrice/',\n",
       " 'https://www.farojob.net/jobs/ncss-group-inc-recrute-technicien-en-soutien-informatique/',\n",
       " 'https://www.farojob.net/jobs/les-cliniques-el-manar-recrute-nutritionniste-dieteticienne/',\n",
       " 'https://www.farojob.net/jobs/les-cliniques-el-manar-recrute-infirmiers-sage-femme/',\n",
       " 'https://www.farojob.net/jobs/eunoia-academy-recrute-charge-e-de-clientele/',\n",
       " 'https://www.farojob.net/jobs/eunoia-academy-recrute-charge-e-de-marketing/',\n",
       " 'https://www.farojob.net/jobs/eunoia-academy-recrute-technicien-ne-en-assistance-et-support-de-contenu/',\n",
       " 'https://www.farojob.net/jobs/eunoia-academy-recrute-graphiste/']"
      ]
     },
     "execution_count": 2,
     "metadata": {},
     "output_type": "execute_result"
    }
   ],
   "source": [
    "import requests\n",
    "from bs4 import BeautifulSoup\n",
    "\n",
    "def get_posts_links(url):\n",
    "    response = requests.get(url)\n",
    "    soup = BeautifulSoup(response.text, 'html.parser')\n",
    "    posts = soup.find_all('a', class_='job-details-link')\n",
    "    links = [post['href'] for post in posts]\n",
    "    return links\n",
    "\n",
    "get_posts_links(url)"
   ]
  },
  {
   "cell_type": "code",
   "execution_count": 3,
   "metadata": {},
   "outputs": [
    {
     "name": "stdout",
     "output_type": "stream",
     "text": [
      "793\n"
     ]
    }
   ],
   "source": [
    "def get_number_of_pages(url):\n",
    "    response = requests.get(url)\n",
    "    soup = BeautifulSoup(response.text, 'html.parser')\n",
    "    \n",
    "    return soup.find_all('a', class_='page-numbers')[-2].text\n",
    "\n",
    "print(int(get_number_of_pages(url)))"
   ]
  },
  {
   "cell_type": "code",
   "execution_count": 4,
   "metadata": {},
   "outputs": [],
   "source": [
    "links = get_posts_links(url)"
   ]
  },
  {
   "cell_type": "code",
   "execution_count": 23,
   "metadata": {},
   "outputs": [
    {
     "name": "stdout",
     "output_type": "stream",
     "text": [
      "<div class=\"job-desc\" itemprop=\"description\">\n",
      "<p>La Clinique du Centre est à la recherche d’une <strong>Gouvernante</strong> pour un poste à temps plein.</p>\n",
      "<p><strong>Pour postuler :</strong></p>\n",
      "<p>Envoyez votre CV par e-mail à : <strong><a rel=\"noopener\">gcc@gnet.tn</a></strong></p>\n",
      "<p>Pour toute information, contactez-nous sur WhatsApp au : <strong>+216 98 302 121</strong>.</p>\n",
      "<p><strong>Lieu :</strong> La Clinique du Centre, Ksar Hellal.</p>\n",
      "<div class=\"job-custom-fields\">\n",
      "<h3>Informations complémentaires</h3>\n",
      "<div class=\"video-gallery-fields\">\n",
      "<ul>\n",
      "<li class=\"job-cf\"><strong class=\"noo-label label-_full_address\">\n",
      "<i class=\"fa fa-blank\">\n",
      "</i>\n",
      "Adresse\n",
      "</strong>\n",
      "<span class=\"value-_full_address cf-text-value\">Rue 2 Mars, Ksar Hellal , Monastir, Tunisie</span></li> </ul>\n",
      "</div>\n",
      "</div>\n",
      "</div>\n"
     ]
    }
   ],
   "source": [
    "def get_links_contents(links):\n",
    "    data = {}\n",
    "    for link in links:\n",
    "        response = requests.get(link)\n",
    "        soup = BeautifulSoup(response.text, 'html.parser')\n",
    "        content = soup.find('div', class_='job-desc')\n",
    "        post_date = soup.find('span', class_='job-date__posted').text\n",
    "        data[link] = {content, post_date}\n",
    "    return data\n",
    "    \n",
    "content, post_date = get_links_contents(links)[links[0]]\n",
    "print(content)"
   ]
  },
  {
   "cell_type": "code",
   "execution_count": 20,
   "metadata": {},
   "outputs": [],
   "source": [
    "import re\n",
    "from datetime import datetime\n",
    "from dateutil.relativedelta import relativedelta\n",
    "\n",
    "\n",
    "def convert_date(date):\n",
    "    months = {\n",
    "        \"janvier\": \"01\",\n",
    "        \"février\": \"02\",\n",
    "        \"mars\": \"03\",\n",
    "        \"avril\": \"04\",\n",
    "        \"mai\": \"05\",\n",
    "        \"juin\": \"06\",\n",
    "        \"juillet\": \"07\",\n",
    "        \"août\": \"08\",\n",
    "        \"septembre\": \"09\",\n",
    "        \"octobre\": \"10\",\n",
    "        \"novembre\": \"11\",\n",
    "        \"décembre\": \"12\",\n",
    "    }\n",
    "    date = re.sub(r\"[^a-z0-9 ]\", \"\", date.lower())\n",
    "    day, month, year = date.split()\n",
    "    date = f\"{year}-{months[month]}-{day}\"\n",
    "    return (datetime.strptime(date, \"%Y-%m-%d\") + relativedelta(months=1)).strftime(\n",
    "        \"%Y-%m-%d\"\n",
    "    )"
   ]
  },
  {
   "cell_type": "code",
   "execution_count": 24,
   "metadata": {},
   "outputs": [
    {
     "name": "stdout",
     "output_type": "stream",
     "text": [
      "2024-12-28\n"
     ]
    }
   ],
   "source": [
    "print(convert_date(post_date))"
   ]
  },
  {
   "cell_type": "code",
   "execution_count": 25,
   "metadata": {},
   "outputs": [
    {
     "data": {
      "text/plain": [
       "{'company': 'La Clinique du Centre est à la recherche d’une Gouvernante pour un poste à temps',\n",
       " 'title': 'Pour postuler :',\n",
       " 'description': 'Envoyez votre CV par e-mail à :\\xa0gcc@gnet.tn Pour toute information, contactez-nous sur WhatsApp au :\\xa0+216 98 302 121. Lieu :\\xa0La Clinique du Centre, Ksar Hellal.',\n",
       " 'workplace': 'Tunisie'}"
      ]
     },
     "execution_count": 25,
     "metadata": {},
     "output_type": "execute_result"
    }
   ],
   "source": [
    "def get_post_details(content):\n",
    "    paragraphs = content.find_all('p')\n",
    "    post = {}\n",
    "    post[\"company\"] = \" \".join(paragraphs[0].text.split()[:-1])\n",
    "    post[\"title\"] = paragraphs[1].text\n",
    "    post[\"description\"] = \" \".join([paragraph.text for paragraph in paragraphs[2:]])\n",
    "    post[\"workplace\"] = \"Tunisie\"\n",
    "    return post\n",
    "    \n",
    "get_post_details(content)"
   ]
  },
  {
   "cell_type": "code",
   "execution_count": null,
   "metadata": {},
   "outputs": [],
   "source": []
  }
 ],
 "metadata": {
  "kernelspec": {
   "display_name": ".venv",
   "language": "python",
   "name": "python3"
  },
  "language_info": {
   "codemirror_mode": {
    "name": "ipython",
    "version": 3
   },
   "file_extension": ".py",
   "mimetype": "text/x-python",
   "name": "python",
   "nbconvert_exporter": "python",
   "pygments_lexer": "ipython3",
   "version": "3.10.11"
  }
 },
 "nbformat": 4,
 "nbformat_minor": 2
}
