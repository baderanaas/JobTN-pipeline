{
 "cells": [
  {
   "cell_type": "code",
   "execution_count": 1,
   "metadata": {},
   "outputs": [],
   "source": [
    "url = \"https://www.farojob.net/jobs/?s&type&paged=1\""
   ]
  },
  {
   "cell_type": "code",
   "execution_count": 2,
   "metadata": {},
   "outputs": [
    {
     "data": {
      "text/plain": [
       "['https://www.farojob.net/jobs/nehos-groupe-recrute-developpeur-full-stack-js/',\n",
       " 'https://www.farojob.net/jobs/oclock-delivery-recrute-des-collaborateurs/',\n",
       " 'https://www.farojob.net/jobs/ccsav-recrute-charge-e-de-recrutement/',\n",
       " 'https://www.farojob.net/jobs/body-cobra-security-recrute-responsable-commercial/',\n",
       " 'https://www.farojob.net/jobs/worldwide-studies-is-hiring-project-sales-officer/',\n",
       " 'https://www.farojob.net/jobs/hcb-outsourcing-recrute-team-leader-quality-production/',\n",
       " 'https://www.farojob.net/jobs/ecom-solution-recrute-social-media-manager/',\n",
       " 'https://www.farojob.net/jobs/uniserv-btp-recrute-chef-projet-ingenieur-genie-civil-experimente/',\n",
       " 'https://www.farojob.net/jobs/your-team-in-tunisia-recrute-administrateur-reseaux/',\n",
       " 'https://www.farojob.net/jobs/concours-ctn-compagnie-tunisienne-de-navigation-pour-le-recrutement-de-30-cadres-et-agents-2024/',\n",
       " 'https://www.farojob.net/jobs/tunup-recrute-product-operations-specialist/',\n",
       " 'https://www.farojob.net/jobs/eminence-recrute-creative-et-ux-designer/',\n",
       " 'https://www.farojob.net/jobs/technopro-recrute-technicien-superieur-nouveau/',\n",
       " 'https://www.farojob.net/jobs/timar-tunisie-recrute-un-agent-de-timbrage-et-facturation/',\n",
       " 'https://www.farojob.net/jobs/foodomarket-recrute-account-manager-responsable-gros-compte/']"
      ]
     },
     "execution_count": 2,
     "metadata": {},
     "output_type": "execute_result"
    }
   ],
   "source": [
    "import requests\n",
    "from bs4 import BeautifulSoup\n",
    "\n",
    "def get_posts_links(url):\n",
    "    response = requests.get(url)\n",
    "    soup = BeautifulSoup(response.text, 'html.parser')\n",
    "    posts = soup.find_all('a', class_='job-details-link')\n",
    "    links = [post['href'] for post in posts]\n",
    "    return links\n",
    "\n",
    "get_posts_links(url)"
   ]
  },
  {
   "cell_type": "code",
   "execution_count": 3,
   "metadata": {},
   "outputs": [],
   "source": [
    "links = get_posts_links(url)"
   ]
  },
  {
   "cell_type": "code",
   "execution_count": 10,
   "metadata": {},
   "outputs": [
    {
     "name": "stdout",
     "output_type": "stream",
     "text": [
      "\n",
      "24 octobre 2024\n",
      "\n"
     ]
    }
   ],
   "source": [
    "def get_links_contents(links):\n",
    "    data = {}\n",
    "    for link in links:\n",
    "        response = requests.get(link)\n",
    "        soup = BeautifulSoup(response.text, 'html.parser')\n",
    "        content = soup.find('div', class_='job-desc')\n",
    "        post_date = soup.find('span', class_='job-date__posted').text\n",
    "        data[link] = {content, post_date}\n",
    "    return data\n",
    "    \n",
    "content, post_date = get_links_contents(links)[links[0]]\n",
    "print(post_date)"
   ]
  },
  {
   "cell_type": "code",
   "execution_count": 17,
   "metadata": {},
   "outputs": [
    {
     "data": {
      "text/plain": [
       "{'company': 'Nehos Groupe',\n",
       " 'title': 'Développeur Full Stack Js',\n",
       " 'description': 'Responsabilités\\n– Concevoir, développer et déployer des applications web et des API robustes et évolutives en utilisant les technologies Node.js, Nest.js et Next.js.\\n– Collaborer avec les équipes de développement front-end et back-end pour concevoir et mettre en œuvre des solutions techniques efficaces.\\nParticiper à la conception et à l’architecture des applications, en veillant à la qualité du code et à la scalabilité.\\n– Assurer la maintenance et l’amélioration continues des applications existantes.\\n– Travailler en étroite collaboration avec les équipes de produits pour comprendre les exigences fonctionnelles et les traduire en solutions techniques. Profil recherché\\n– Expérience significative dans le développement web avec Node.js, Nest.js et Next.js.\\n– Maîtrise des principes de conception logicielle, de l’architecture RESTful et des meilleures pratiques de développement.\\nSolides compétences en développement front-end avec des frameworks comme React.js ou Vue.js.\\n– Connaissance des bases de données relationnelles et non relationnelles (MySQL, MongoDB, etc.).\\n– Capacité à travailler efficacement en équipe, à communiquer clairement et à résoudre les problèmes de manière autonome.\\n– Aptitude à travailler dans un environnement Agile et à respecter les délais. Ce que nous offrons\\n– Un environnement de travail collaboratif et stimulant.\\n– Des projets variés et enrichissants.\\n– Opportunités de développement professionnel.\\n– Une rémunération compétitive et des avantages sociaux attractifs. Comment postuler\\nMerci d’envoyer votre CV Ville ›\\xa0Sousse / Sfax\\nEntreprise ›\\xa0Nehos Groupe\\nTel / Fax ›\\xa096118047',\n",
       " 'workplace': 'Tunisie'}"
      ]
     },
     "execution_count": 17,
     "metadata": {},
     "output_type": "execute_result"
    }
   ],
   "source": [
    "def get_post_details(content):\n",
    "    paragraphs = content.find_all('p')\n",
    "    post = {}\n",
    "    post[\"company\"] = \" \".join(paragraphs[0].text.split()[:-1])\n",
    "    post[\"title\"] = paragraphs[1].text\n",
    "    post[\"description\"] = \" \".join([paragraph.text for paragraph in paragraphs[2:]])\n",
    "    post[\"workplace\"] = \"Tunisie\"\n",
    "    return post\n",
    "    \n",
    "get_post_details(content)"
   ]
  }
 ],
 "metadata": {
  "kernelspec": {
   "display_name": ".venv",
   "language": "python",
   "name": "python3"
  },
  "language_info": {
   "codemirror_mode": {
    "name": "ipython",
    "version": 3
   },
   "file_extension": ".py",
   "mimetype": "text/x-python",
   "name": "python",
   "nbconvert_exporter": "python",
   "pygments_lexer": "ipython3",
   "version": "3.10.11"
  }
 },
 "nbformat": 4,
 "nbformat_minor": 2
}
